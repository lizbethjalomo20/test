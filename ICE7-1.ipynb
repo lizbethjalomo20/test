{
 "cells": [
  {
   "cell_type": "markdown",
   "id": "b2cfd4ce",
   "metadata": {},
   "source": [
    "# 🐍 ICE 7 – Working with Lists in Python\n",
    "\n",
    "In this in-class exercise, we'll explore the core functionality of **lists** in Python.\n",
    "You’ll practice:\n",
    "- Creating lists\n",
    "- Indexing and slicing\n",
    "- Using loops with lists\n",
    "- Applying list methods and built-in functions\n",
    "- Writing list comprehensions\n"
   ]
  },
  {
   "cell_type": "markdown",
   "id": "c94c047c",
   "metadata": {},
   "source": [
    "### Exercise 1: Creating and Printing Lists\n",
    "Create the following three lists:\n",
    "- A list of fruits: `\"apple\"`, `\"banana\"`, `\"cherry\"`\n",
    "- A list of numbers: `10, 20, 30, 40, 50`\n",
    "- A mixed list: `\"hello\"`, `3.14`, `42`, `True`\n",
    "\n",
    "Print each list using the `print()` function.\n"
   ]
  },
  {
   "cell_type": "code",
   "execution_count": 4,
   "id": "fa5a56e4",
   "metadata": {},
   "outputs": [
    {
     "name": "stdout",
     "output_type": "stream",
     "text": [
      "['apple', 'banana', 'cherry']\n",
      "[10, 20, 30, 40, 50]\n",
      "['hello', 3.14, 42, True]\n"
     ]
    }
   ],
   "source": [
    "list = [\"apple\", \"banana\", \"cherry\"]\n",
    "list2 = [10, 20, 30, 40, 50]\n",
    "list3 = [\"hello\", 3.14, 42, True]\n",
    "print(list)\n",
    "print(list2)\n",
    "print(list3)"
   ]
  },
  {
   "cell_type": "markdown",
   "id": "388e6e4d",
   "metadata": {},
   "source": [
    "### Exercise 2: Indexing and Slicing\n",
    "Use indexing and slicing to:\n",
    "- Print the first fruit\n",
    "- Print the last number\n",
    "- Print a slice of the `numbers` list from the second to the fourth item\n"
   ]
  },
  {
   "cell_type": "code",
   "execution_count": 33,
   "id": "d0d85286",
   "metadata": {},
   "outputs": [
    {
     "name": "stdout",
     "output_type": "stream",
     "text": [
      "orange\n",
      "50\n",
      "[20, 30, 40]\n"
     ]
    }
   ],
   "source": [
    "fruit = list[0]\n",
    "number = list2[4]\n",
    "slice = list2[1:4]\n",
    "print(fruit)\n",
    "print(number)\n",
    "print(slice)"
   ]
  },
  {
   "cell_type": "markdown",
   "id": "420b228e",
   "metadata": {},
   "source": [
    "### Exercise 3: Iterating Over a List\n",
    "Use a `for` loop to iterate over the `fruits` list and print each item on a new line.\n"
   ]
  },
  {
   "cell_type": "code",
   "execution_count": 36,
   "id": "0c7c9a0e",
   "metadata": {},
   "outputs": [
    {
     "name": "stdout",
     "output_type": "stream",
     "text": [
      "apple\n",
      "banana\n",
      "cherry\n"
     ]
    }
   ],
   "source": [
    "list = [\"apple\", \"banana\", \"cherry\"]\n",
    "for item in list:\n",
    "    print(item) "
   ]
  },
  {
   "cell_type": "markdown",
   "id": "aeffe6bf",
   "metadata": {},
   "source": [
    "### Exercise 4: Using List Methods\n",
    "Modify the `fruits` list by:\n",
    "- Adding `\"orange\"` to the end of the list\n",
    "- Inserting `\"blueberry\"` at position 1\n",
    "- Removing `\"banana\"` from the list\n",
    "- Reversing the list\n",
    "- Sorting the list in ascending order\n",
    "\n",
    "Print the list after each operation to see the changes.\n"
   ]
  },
  {
   "cell_type": "code",
   "execution_count": 39,
   "id": "4369963f",
   "metadata": {},
   "outputs": [
    {
     "name": "stdout",
     "output_type": "stream",
     "text": [
      "['apple', 'banana', 'cherry', 'orange']\n"
     ]
    }
   ],
   "source": [
    "list = [\"apple\", \"banana\", \"cherry\"]\n",
    "list.append(\"orange\")\n",
    "print(list)"
   ]
  },
  {
   "cell_type": "code",
   "execution_count": 40,
   "id": "755edfef",
   "metadata": {},
   "outputs": [
    {
     "name": "stdout",
     "output_type": "stream",
     "text": [
      "['blueberry', 'banana', 'cherry', 'orange']\n"
     ]
    }
   ],
   "source": [
    "list[0] = \"blueberry\"\n",
    "print(list)"
   ]
  },
  {
   "cell_type": "code",
   "execution_count": 41,
   "id": "bb408c9c",
   "metadata": {},
   "outputs": [
    {
     "name": "stdout",
     "output_type": "stream",
     "text": [
      "['blueberry', 'cherry', 'orange']\n"
     ]
    }
   ],
   "source": [
    "del list[1]\n",
    "print(list)"
   ]
  },
  {
   "cell_type": "code",
   "execution_count": 42,
   "id": "54d72585",
   "metadata": {},
   "outputs": [
    {
     "data": {
      "text/plain": [
       "['orange', 'cherry', 'blueberry']"
      ]
     },
     "execution_count": 42,
     "metadata": {},
     "output_type": "execute_result"
    }
   ],
   "source": [
    "list.reverse()\n",
    "list"
   ]
  },
  {
   "cell_type": "code",
   "execution_count": 45,
   "id": "ddd09ea4",
   "metadata": {},
   "outputs": [
    {
     "data": {
      "text/plain": [
       "['blueberry', 'cherry', 'orange']"
      ]
     },
     "execution_count": 45,
     "metadata": {},
     "output_type": "execute_result"
    }
   ],
   "source": [
    "list.sort()\n",
    "list"
   ]
  },
  {
   "cell_type": "code",
   "execution_count": 43,
   "id": "28f40e28",
   "metadata": {},
   "outputs": [
    {
     "data": {
      "text/plain": [
       "[50, 40, 30, 20, 10]"
      ]
     },
     "execution_count": 43,
     "metadata": {},
     "output_type": "execute_result"
    }
   ],
   "source": [
    "list2.reverse()\n",
    "list2"
   ]
  },
  {
   "cell_type": "code",
   "execution_count": 44,
   "id": "b27cef57",
   "metadata": {},
   "outputs": [
    {
     "data": {
      "text/plain": [
       "[10, 20, 30, 40, 50]"
      ]
     },
     "execution_count": 44,
     "metadata": {},
     "output_type": "execute_result"
    }
   ],
   "source": [
    "list2.sort()\n",
    "list2"
   ]
  },
  {
   "cell_type": "markdown",
   "id": "80863192",
   "metadata": {},
   "source": [
    "### Exercise 5: Built-in Functions with Lists\n",
    "Use the following built-in functions with the `numbers` list:\n",
    "- `len()` to get the number of elements\n",
    "- `max()` to get the largest number\n",
    "- `min()` to get the smallest number\n",
    "- `sum()` to get the total of all numbers\n"
   ]
  },
  {
   "cell_type": "code",
   "execution_count": 46,
   "id": "789cbee4",
   "metadata": {},
   "outputs": [
    {
     "data": {
      "text/plain": [
       "5"
      ]
     },
     "execution_count": 46,
     "metadata": {},
     "output_type": "execute_result"
    }
   ],
   "source": [
    "len(list2)"
   ]
  },
  {
   "cell_type": "code",
   "execution_count": 50,
   "id": "e06bf025",
   "metadata": {},
   "outputs": [
    {
     "data": {
      "text/plain": [
       "50"
      ]
     },
     "execution_count": 50,
     "metadata": {},
     "output_type": "execute_result"
    }
   ],
   "source": [
    "max(list2)"
   ]
  },
  {
   "cell_type": "code",
   "execution_count": 51,
   "id": "1bb5468d",
   "metadata": {},
   "outputs": [
    {
     "data": {
      "text/plain": [
       "10"
      ]
     },
     "execution_count": 51,
     "metadata": {},
     "output_type": "execute_result"
    }
   ],
   "source": [
    "min(list2)"
   ]
  },
  {
   "cell_type": "code",
   "execution_count": 52,
   "id": "6a87026b",
   "metadata": {},
   "outputs": [
    {
     "data": {
      "text/plain": [
       "150"
      ]
     },
     "execution_count": 52,
     "metadata": {},
     "output_type": "execute_result"
    }
   ],
   "source": [
    "sum(list2)"
   ]
  },
  {
   "cell_type": "markdown",
   "id": "1e660786",
   "metadata": {},
   "source": [
    "### Exercise 6: List Comprehensions\n",
    "Create new lists using list comprehensions:\n",
    "- A list of squares of numbers from 1 to 5\n",
    "- A list of even numbers from the `numbers` list\n"
   ]
  },
  {
   "cell_type": "code",
   "execution_count": 53,
   "id": "52fae08c",
   "metadata": {},
   "outputs": [
    {
     "data": {
      "text/plain": [
       "[1, 4, 9, 16, 25]"
      ]
     },
     "execution_count": 53,
     "metadata": {},
     "output_type": "execute_result"
    }
   ],
   "source": [
    "lst = [1, 2, 3, 4, 5]\n",
    "lst2 = [item**2 for item in lst]\n",
    "lst2"
   ]
  },
  {
   "cell_type": "code",
   "execution_count": 55,
   "id": "68984d10",
   "metadata": {},
   "outputs": [
    {
     "data": {
      "text/plain": [
       "[2, 4, 6, 8, 10]"
      ]
     },
     "execution_count": 55,
     "metadata": {},
     "output_type": "execute_result"
    }
   ],
   "source": [
    "ll = [1,2,3,4,5,6,7,8,9,10]\n",
    "l_even = [item for item in ll if item % 2 == 0]\n",
    "l_even"
   ]
  },
  {
   "cell_type": "markdown",
   "id": "ab24c300",
   "metadata": {},
   "source": [
    "### Exercise 7: Plotting with matplotlib package\n",
    "Make 3 plots using matplotlib library:\n",
    "- Line plot\n",
    "- Bar plot\n",
    "- Pie chart\n"
   ]
  },
  {
   "cell_type": "code",
   "execution_count": 83,
   "id": "c946a6e2",
   "metadata": {},
   "outputs": [
    {
     "data": {
      "image/png": "[encoded data removed]",
      "text/plain": [
       "<Figure size 640x480 with 1 Axes>"
      ]
     },
     "metadata": {},
     "output_type": "display_data"
    }
   ],
   "source": [
    "import matplotlib.pyplot as plt\n",
    "x_coords = [1,2,3,4]\n",
    "y_coords = [2,4,6,8]\n",
    "\n",
    "plt.plot(x_coords, y_coords)\n",
    "plt.title(\"How much im learning in programming 1\")\n",
    "plt.xlabel(\"Programs\")\n",
    "plt.ylabel(\"Hours\")\n",
    "plt.show()\n"
   ]
  },
  {
   "cell_type": "code",
   "execution_count": 62,
   "id": "956cb5f4",
   "metadata": {},
   "outputs": [
    {
     "data": {
      "text/plain": [
       "<function matplotlib.pyplot.show(close=None, block=None)>"
      ]
     },
     "execution_count": 62,
     "metadata": {},
     "output_type": "execute_result"
    },
    {
     "data": {
      "image/png": "[encoded data removed]",
      "text/plain": [
       "<Figure size 640x480 with 1 Axes>"
      ]
     },
     "metadata": {},
     "output_type": "display_data"
    }
   ],
   "source": [
    "import matplotlib.pyplot as plt\n",
    "left_edges = [0,2,4,6,8]\n",
    "height = [0,10,20,30,40]\n",
    "\n",
    "plt.bar(left_edges, height, color=('r','g'))\n",
    "plt.title(\"Bar plot example\")\n",
    "plt.show"
   ]
  },
  {
   "cell_type": "code",
   "execution_count": 81,
   "id": "fc571399",
   "metadata": {},
   "outputs": [
    {
     "data": {
      "image/png": "[encoded data removed]",
      "text/plain": [
       "<Figure size 640x480 with 1 Axes>"
      ]
     },
     "metadata": {},
     "output_type": "display_data"
    }
   ],
   "source": [
    "import matplotlib.pyplot as plt\n",
    "values = [1, 30, 20, 15]\n",
    "slice_labels = ['Sea food', 'Mexican food', 'Italian food', 'American food']\n",
    "plt.pie(values, labels=slice_labels)\n",
    "plt.title(\"This pie shows what foods I like more :)\")\n",
    "plt.show()\n"
   ]
  }
 ],
 "metadata": {
  "kernelspec": {
   "display_name": "Python 3",
   "language": "python",
   "name": "python3"
  },
  "language_info": {
   "codemirror_mode": {
    "name": "ipython",
    "version": 3
   },
   "file_extension": ".py",
   "mimetype": "text/x-python",
   "name": "python",
   "nbconvert_exporter": "python",
   "pygments_lexer": "ipython3",
   "version": "3.13.2"
  }
 },
 "nbformat": 4,
 "nbformat_minor": 5
}
